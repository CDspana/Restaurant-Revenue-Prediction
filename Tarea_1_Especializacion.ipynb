{
  "nbformat": 4,
  "nbformat_minor": 0,
  "metadata": {
    "colab": {
      "provenance": []
    },
    "kernelspec": {
      "name": "python3",
      "display_name": "Python 3"
    },
    "language_info": {
      "name": "python"
    }
  },
  "cells": [
    {
      "cell_type": "code",
      "execution_count": 162,
      "metadata": {
        "id": "vdhsyNF0xhvY"
      },
      "outputs": [],
      "source": [
        "import numpy as np"
      ]
    },
    {
      "cell_type": "markdown",
      "source": [
        "# 3 punto"
      ],
      "metadata": {
        "id": "Jq2c8NkE3B07"
      }
    },
    {
      "cell_type": "code",
      "source": [
        "def calculate_polynomial(matrix):\n",
        "  '''\n",
        "  Esta funcion realiza el calculo del polinomio caracteristico para una matriz cuadrada dada\n",
        "\n",
        "  Parametros de entrada:\n",
        "    matrix (numpy.ndarray): Descripción de matriz\n",
        "\n",
        "  Retorna:\n",
        "  numpy.ndarray: Descripción del valor retornado\n",
        "\n",
        "  '''\n",
        "  # Se calcula los eigenvalores de la matriz de entrada\n",
        "  eigenvalores = np.linalg.eigvals(matrix)\n",
        "\n",
        "  # Se retorna los eigenvalores de la matriz\n",
        "  return eigenvalores"
      ],
      "metadata": {
        "id": "TFmdlHP0ydgz"
      },
      "execution_count": null,
      "outputs": []
    },
    {
      "cell_type": "code",
      "source": [
        "matriz = np.array([[2, 1, 1],\n",
        "                    [4, 3, 2],\n",
        "                    [1, 1, 2]])\n",
        "\n",
        "vals = calculate_polynomial(matriz)\n",
        "print(vals)"
      ],
      "metadata": {
        "colab": {
          "base_uri": "https://localhost:8080/"
        },
        "id": "XLjUpx8S5lDj",
        "outputId": "fc3eaa35-1c5b-44e5-c9f7-85650af112d5"
      },
      "execution_count": null,
      "outputs": [
        {
          "output_type": "stream",
          "name": "stdout",
          "text": [
            "[5.44948974 0.55051026 1.        ]\n"
          ]
        }
      ]
    },
    {
      "cell_type": "markdown",
      "source": [
        "Luego de obtener los eigenvalores para lambda λ, se realiza el calculo:\n",
        "\n",
        "(λ - 5.45)(λ - 0.550)(λ - 1) = 0\n",
        "\n",
        "\n",
        "**Solución:**\n",
        "\n",
        "λ³ - 7.000 λ² + 8.977 λ - 2.997 = 0"
      ],
      "metadata": {
        "id": "9oW3KJpO5-tT"
      }
    },
    {
      "cell_type": "markdown",
      "source": [
        "# 2 Punto"
      ],
      "metadata": {
        "id": "WUceyHkJ_-QR"
      }
    },
    {
      "cell_type": "code",
      "source": [
        "from scipy.special import factorial\n",
        "\n",
        "def euler(n):\n",
        "  '''\n",
        "  Esta funcion realiza el calculo del valor del número de Euler\n",
        "\n",
        "  Parametros de entrada:\n",
        "    n (int): Descripción de n\n",
        "\n",
        "  Retorna:\n",
        "  int: Descripción del valor retornado\n",
        "\n",
        "  '''\n",
        "  l = np.arange(n)\n",
        "  factoriales = factorial(l)\n",
        "  return np.sum(((1) / (factoriales) ) )"
      ],
      "metadata": {
        "id": "-1HUghhP5DCP"
      },
      "execution_count": null,
      "outputs": []
    },
    {
      "cell_type": "code",
      "source": [
        "euler(4)"
      ],
      "metadata": {
        "colab": {
          "base_uri": "https://localhost:8080/"
        },
        "id": "yAsf9iJ_BbxB",
        "outputId": "2f372718-a00d-4719-8771-485289df9852"
      },
      "execution_count": null,
      "outputs": [
        {
          "output_type": "execute_result",
          "data": {
            "text/plain": [
              "2.6666666666666665"
            ]
          },
          "metadata": {},
          "execution_count": 33
        }
      ]
    },
    {
      "cell_type": "code",
      "source": [
        "euler(10)"
      ],
      "metadata": {
        "colab": {
          "base_uri": "https://localhost:8080/"
        },
        "id": "3l3LTMHxAKRg",
        "outputId": "aeb071d1-c05f-419b-85d1-55f5007421f7"
      },
      "execution_count": null,
      "outputs": [
        {
          "output_type": "execute_result",
          "data": {
            "text/plain": [
              "2.718281525573192"
            ]
          },
          "metadata": {},
          "execution_count": 32
        }
      ]
    },
    {
      "cell_type": "code",
      "source": [
        "euler(10000)"
      ],
      "metadata": {
        "colab": {
          "base_uri": "https://localhost:8080/"
        },
        "id": "dLwNVb4p7v0V",
        "outputId": "66d4dffc-47dd-4960-cfa5-0d706cb18e7d"
      },
      "execution_count": null,
      "outputs": [
        {
          "output_type": "execute_result",
          "data": {
            "text/plain": [
              "2.718281828459045"
            ]
          },
          "metadata": {},
          "execution_count": 26
        }
      ]
    },
    {
      "cell_type": "code",
      "source": [
        "euler(100000000)"
      ],
      "metadata": {
        "colab": {
          "base_uri": "https://localhost:8080/"
        },
        "id": "LqjtENKAA0Pa",
        "outputId": "5162c303-9692-49c6-f284-7091f9fef58f"
      },
      "execution_count": null,
      "outputs": [
        {
          "output_type": "execute_result",
          "data": {
            "text/plain": [
              "2.718281828459045"
            ]
          },
          "metadata": {},
          "execution_count": 29
        }
      ]
    },
    {
      "cell_type": "markdown",
      "source": [
        "\n",
        "**Solución:**\n",
        "\n",
        "\n",
        "El valor deseado se alcanza con la primera potencia de 10, es decir 10."
      ],
      "metadata": {
        "id": "TmXTAQxiBOv_"
      }
    },
    {
      "cell_type": "code",
      "source": [
        "# Base de datos de productos y precios\n",
        "base_de_datos = {\n",
        "            \"Pantalon\": 100000,\n",
        "            \"Camiseta\": 50000,\n",
        "            \"Gafas\": 25000,\n",
        "            \"Gorra\": 20000,\n",
        "            \"Zapatos\": 250000\n",
        "            # Agrega más productos y precios según sea necesario\n",
        "        }\n",
        "\n",
        "\n",
        "class Pedido:\n",
        "\n",
        "    \"\"\"\n",
        "    Clase Pedido que ayuda a tomar los pedidos enviados por el usuario y calcula el total de la compra\n",
        "\n",
        "    -----------\n",
        "\n",
        "    Atributos\n",
        "    ----------\n",
        "    numero_pedido : int\n",
        "        Identificador del pedido\n",
        "    cliente : str\n",
        "        Nombre del cliente quien realiza el pedido\n",
        "    fecha : str\n",
        "        Fecha de creación del pedido\n",
        "    productos : dict\n",
        "        Diccionario de productos seleccionados por el usuario\n",
        "\n",
        "\n",
        "    Metodos\n",
        "    -------\n",
        "    mostrar_detalle()\n",
        "        Muestra los productos y la cantidad de ellos\n",
        "\n",
        "    agregar_producto(producto, cantidad)\n",
        "        Agrega nuevos productos o actualiza los exitentes\n",
        "\n",
        "    eliminar_producto(producto)\n",
        "        Elimina el producto seleccionado\n",
        "\n",
        "    calcular_total()\n",
        "        Calcula el total de los productos realizando una busqueda de los precios en la base de datos\n",
        "    \"\"\"\n",
        "    def __init__(self, numero_pedido: int, cliente: str, fecha: str, productos: dict):\n",
        "      self.informacion_pedido = {\n",
        "          'numero_pedido': numero_pedido,\n",
        "          'cliente': cliente,\n",
        "          'fecha': fecha,\n",
        "          'productos': dict(productos),\n",
        "          'total' : 0,\n",
        "      }\n",
        "\n",
        "      \"\"\"\n",
        "      Parametros\n",
        "      ----------\n",
        "      numero_pedido : int\n",
        "          Identificador del pedido\n",
        "      cliente : str\n",
        "          Nombre del cliente quien realiza el pedido\n",
        "      fecha : str\n",
        "          Fecha de creación del pedido\n",
        "      productos : dict\n",
        "          Diccionario de productos seleccionados por el usuario\n",
        "      \"\"\"\n",
        "\n",
        "\n",
        "\n",
        "    def mostrar_detalle(self):\n",
        "\n",
        "      print(f\"Número de Pedido: {self.informacion_pedido['numero_pedido']}\")\n",
        "      print(f\"Cliente: {self.informacion_pedido['cliente']}\")\n",
        "      print(f\"Fecha: {self.informacion_pedido['fecha']}\")\n",
        "      print(\"Productos:\")\n",
        "      for producto, cantidad in self.informacion_pedido['productos'].items():\n",
        "          print(f\" - {producto}: {cantidad}\")\n",
        "      self.calcular_total()\n",
        "      print()\n",
        "      print(f\"Total: COP {self.informacion_pedido['total']}\")\n",
        "\n",
        "    def agregar_producto(self, producto, cantidad):\n",
        "      #Se realiza la busqueda del producto en los anteriores productos, si lo encuentra suma la cantidad sino lo agrega\n",
        "      if producto in self.informacion_pedido['productos']:\n",
        "          self.informacion_pedido['productos'][producto] += cantidad\n",
        "      else:\n",
        "          self.informacion_pedido['productos'][producto] = cantidad\n",
        "\n",
        "    def eliminar_producto(self, producto):\n",
        "      #Valida si el producto se encuentra en los productos de ser asi lo elimina\n",
        "      if producto in self.informacion_pedido['productos']:\n",
        "          del self.informacion_pedido['productos'][producto]\n",
        "      else:\n",
        "          print(f\"El producto '{producto}' no se encuentra en el pedido.\")\n",
        "\n",
        "    def calcular_total(self):\n",
        "      total = 0\n",
        "      for producto, cantidad in self.informacion_pedido['productos'].items():\n",
        "          if producto in base_de_datos:\n",
        "              precio = base_de_datos[producto]\n",
        "              total += precio * cantidad\n",
        "          else:\n",
        "            print(f\"*** El producto {producto} seleccionado por el usario no existe en la base de datos ***\")\n",
        "      self.informacion_pedido['total'] = total\n",
        "      return total\n"
      ],
      "metadata": {
        "id": "mQ2mkpZCpYwq"
      },
      "execution_count": 157,
      "outputs": []
    },
    {
      "cell_type": "code",
      "source": [
        "# Crear un pedido\n",
        "productos_iniciales = {\"Pantalon\": 1, \"Camiseta\": 1}\n",
        "pedido1 = Pedido(1, \"Laura\", \"2023-08-05\", productos_iniciales)"
      ],
      "metadata": {
        "id": "BQdJou5lqB-R"
      },
      "execution_count": 158,
      "outputs": []
    },
    {
      "cell_type": "code",
      "source": [
        "# Mostrar detalles del pedido\n",
        "pedido1.mostrar_detalle()"
      ],
      "metadata": {
        "colab": {
          "base_uri": "https://localhost:8080/"
        },
        "id": "BbZ_VxfvqElx",
        "outputId": "f6fbcecf-6791-426f-83c7-8ae34bb54f8e"
      },
      "execution_count": 159,
      "outputs": [
        {
          "output_type": "stream",
          "name": "stdout",
          "text": [
            "Número de Pedido: 1\n",
            "Cliente: Laura\n",
            "Fecha: 2023-08-05\n",
            "Productos:\n",
            " - Pantalon: 1\n",
            " - Camiseta: 1\n",
            "\n",
            "Total: COP 150000\n"
          ]
        }
      ]
    },
    {
      "cell_type": "code",
      "source": [
        "pedido1.eliminar_producto(\"Pantalon\")\n",
        "pedido1.mostrar_detalle()\n"
      ],
      "metadata": {
        "colab": {
          "base_uri": "https://localhost:8080/"
        },
        "id": "bFlXNWKiLmoP",
        "outputId": "472294d1-9c66-4f79-9558-548c3887cd50"
      },
      "execution_count": 160,
      "outputs": [
        {
          "output_type": "stream",
          "name": "stdout",
          "text": [
            "Número de Pedido: 1\n",
            "Cliente: Laura\n",
            "Fecha: 2023-08-05\n",
            "Productos:\n",
            " - Camiseta: 1\n",
            "\n",
            "Total: COP 50000\n"
          ]
        }
      ]
    },
    {
      "cell_type": "code",
      "source": [
        "# Agregar productos\n",
        "pedido1.agregar_producto(\"collar\", 1)\n",
        "# Mostrar productos nuevamente\n",
        "pedido1.mostrar_detalle()"
      ],
      "metadata": {
        "colab": {
          "base_uri": "https://localhost:8080/"
        },
        "id": "XzOUZRAKqGg7",
        "outputId": "6539441d-8bea-4d01-ea94-d59ebba2673f"
      },
      "execution_count": 152,
      "outputs": [
        {
          "output_type": "stream",
          "name": "stdout",
          "text": [
            "Número de Pedido: 1\n",
            "Cliente: Laura\n",
            "Fecha: 2023-08-05\n",
            "Productos:\n",
            " - Pantalon: 1\n",
            " - Camiseta: 1\n",
            " - collar: 1\n",
            "*** El producto collar seleccionado por el usario no existe en la base de datos ***\n",
            "\n",
            "Total: COP 150000\n"
          ]
        }
      ]
    },
    {
      "cell_type": "code",
      "source": [
        "class PedidoDescuento(Pedido):\n",
        "\n",
        "      \"\"\"\n",
        "    Clase PedidoDescuento que ayuda a realizar un descuento de los productos seleccionados\n",
        "\n",
        "    -----------\n",
        "\n",
        "    Atributos\n",
        "    ----------\n",
        "    numero_pedido : int\n",
        "        Identificador del pedido\n",
        "    cliente : str\n",
        "        Nombre del cliente quien realiza el pedido\n",
        "    fecha : str\n",
        "        Fecha de creación del pedido\n",
        "    productos : dict\n",
        "        Diccionario de productos seleccionados por el usuario\n",
        "    descuento : int\n",
        "        valor con el que se aplicará el descuento\n",
        "\n",
        "\n",
        "    Metodos\n",
        "    -------\n",
        "    mostrar_detalle()\n",
        "        Muestra los productos y la cantidad de ellos el total con y sin descuento\n",
        "    \"\"\"\n",
        "\n",
        "    def __init__(self, numero_pedido: int, cliente: str, fecha: str, productos: dict, descuento: int):\n",
        "        super().__init__(numero_pedido, cliente, fecha, productos)\n",
        "        self.descuento = descuento\n",
        "\n",
        "        \"\"\"\n",
        "        Atributos\n",
        "        ----------\n",
        "        numero_pedido : int\n",
        "            Identificador del pedido\n",
        "        cliente : str\n",
        "            Nombre del cliente quien realiza el pedido\n",
        "        fecha : str\n",
        "            Fecha de creación del pedido\n",
        "        productos : dict\n",
        "            Diccionario de productos seleccionados por el usuario\n",
        "        descuento : int\n",
        "            valor con el que se aplicará el descuento\n",
        "        \"\"\"\n",
        "\n",
        "\n",
        "    def mostrar_detalle(self):\n",
        "        super().mostrar_detalle()\n",
        "        super().calcular_total()\n",
        "        num_aleatorio = random.random()\n",
        "        #if num_aleatorio >= 0.5:\n",
        "        descuento_total = self.informacion_pedido['total'] * (self.descuento / 100)\n",
        "        self.informacion_pedido['total'] -= descuento_total\n",
        "        #else:\n",
        "          #print(\"Esta vez no ganaste el descuento\")\n",
        "        print(f\"Descuento aplicado: {self.descuento}%\")\n",
        "        print(f\"Total con descuento: COP {self.informacion_pedido['total']}\")\n"
      ],
      "metadata": {
        "id": "qKOtIs8hBcgL"
      },
      "execution_count": 155,
      "outputs": []
    },
    {
      "cell_type": "code",
      "source": [
        "pedido_descuento = PedidoDescuento(numero_pedido=1, cliente=\"Laura\", fecha=\"2023-08-07\", productos=productos_iniciales, descuento=50)\n",
        "\n",
        "# Mostrar los detalles del pedido con descuento\n",
        "pedido_descuento.mostrar_detalle()"
      ],
      "metadata": {
        "colab": {
          "base_uri": "https://localhost:8080/"
        },
        "id": "krp8HgoBCRfc",
        "outputId": "924a35a6-d361-439a-91e7-303deac59d54"
      },
      "execution_count": 156,
      "outputs": [
        {
          "output_type": "stream",
          "name": "stdout",
          "text": [
            "Número de Pedido: 1\n",
            "Cliente: Laura\n",
            "Fecha: 2023-08-07\n",
            "Productos:\n",
            " - Pantalon: 1\n",
            " - Camiseta: 1\n",
            "\n",
            "Total: COP 150000\n",
            "Descuento aplicado: 50%\n",
            "Total con descuento: COP 75000.0\n"
          ]
        }
      ]
    },
    {
      "cell_type": "markdown",
      "source": [
        "#Ejercicio 2"
      ],
      "metadata": {
        "id": "rqL55WIvRrAh"
      }
    },
    {
      "cell_type": "code",
      "source": [
        "# Coeficientes de las ecuaciones\n",
        "coefficients = np.array([[2, 3, -1, 4, 5],\n",
        "                         [1, -2, 4, -3, 1],\n",
        "                         [3, 2, -3, 5, -2],\n",
        "                         [4, 1, -2, 3, 2],\n",
        "                         [1, 1, 1, 1, 1]])\n",
        "\n",
        "# Términos independientes\n",
        "constants = np.array([15, 6, 11, 8, 7])"
      ],
      "metadata": {
        "id": "Db-J4yaDCwpY"
      },
      "execution_count": 165,
      "outputs": []
    },
    {
      "cell_type": "code",
      "source": [
        "solution = np.linalg.solve(coefficients, constants)\n",
        "\n",
        "print(\"Solución:\\n\")\n",
        "print(\"x =\", solution[0])\n",
        "print(\"y =\", solution[1])\n",
        "print(\"z =\", solution[2])\n",
        "print(\"w =\", solution[3])\n",
        "print(\"v =\", solution[4])\n",
        "\n"
      ],
      "metadata": {
        "colab": {
          "base_uri": "https://localhost:8080/"
        },
        "id": "qDtXktQrRyIk",
        "outputId": "6a492f14-0ca3-4d33-bd1b-6193cfb25a6d"
      },
      "execution_count": 168,
      "outputs": [
        {
          "output_type": "stream",
          "name": "stdout",
          "text": [
            "Solución:\n",
            "\n",
            "x = -1.6774193548387097\n",
            "y = -7.870967741935485\n",
            "z = 5.129032258064516\n",
            "w = 10.0\n",
            "v = 1.4193548387096777\n"
          ]
        }
      ]
    },
    {
      "cell_type": "code",
      "source": [],
      "metadata": {
        "id": "6WFCttXzR2PS"
      },
      "execution_count": null,
      "outputs": []
    }
  ]
}